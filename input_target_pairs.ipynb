{
 "cells": [
  {
   "cell_type": "markdown",
   "id": "3a0abfff",
   "metadata": {},
   "source": [
    "## Creating input-target pairs"
   ]
  },
  {
   "cell_type": "markdown",
   "id": "90848c6a",
   "metadata": {},
   "source": [
    "In this section we implement a data loader that fetches the input-target pairs using sliding window approach"
   ]
  },
  {
   "cell_type": "code",
   "execution_count": 1,
   "id": "dd5adc0e",
   "metadata": {},
   "outputs": [
    {
     "name": "stdout",
     "output_type": "stream",
     "text": [
      "tiktoken version:  0.9.0\n"
     ]
    }
   ],
   "source": [
    "import importlib\n",
    "import importlib.metadata\n",
    "import tiktoken\n",
    "print(\"tiktoken version: \", importlib.metadata.version(\"tiktoken\"))"
   ]
  },
  {
   "cell_type": "code",
   "execution_count": 2,
   "id": "5396481e",
   "metadata": {},
   "outputs": [],
   "source": [
    "tokenizer = tiktoken.get_encoding('gpt2')"
   ]
  },
  {
   "cell_type": "code",
   "execution_count": 3,
   "id": "03be47ca",
   "metadata": {},
   "outputs": [
    {
     "name": "stdout",
     "output_type": "stream",
     "text": [
      "5145\n"
     ]
    }
   ],
   "source": [
    "with open(\"the-verdict.txt\", 'r', encoding=\"utf-8\") as f:\n",
    "    raw_text = f.read()\n",
    "\n",
    "enc_text = tokenizer.encode(raw_text)\n",
    "print(len(enc_text))"
   ]
  },
  {
   "cell_type": "markdown",
   "id": "5f210482",
   "metadata": {},
   "source": [
    "we remove the first 50 tokens form the dataset for demonstration purposed as it results in slightly more interesting"
   ]
  },
  {
   "cell_type": "code",
   "execution_count": 4,
   "id": "99e7522e",
   "metadata": {},
   "outputs": [],
   "source": [
    "enc_sample = enc_text[50:]"
   ]
  },
  {
   "cell_type": "markdown",
   "id": "1ed02b1c",
   "metadata": {},
   "source": [
    "The context size determines the how many tokens are included in the input"
   ]
  },
  {
   "cell_type": "code",
   "execution_count": 5,
   "id": "c97b3be8",
   "metadata": {},
   "outputs": [
    {
     "name": "stdout",
     "output_type": "stream",
     "text": [
      "x: [290, 4920, 2241, 287]\n",
      "y: [4920, 2241, 287, 257]\n"
     ]
    }
   ],
   "source": [
    "context_size = 4 # length of the input\n",
    "# the context size of 4 means that the model is trained to look at a sequence of 4 word\n",
    "# to predict the next word in the sentence.\n",
    "# the input x is the first 4 tokens [1, 2, 3, 4], and the target  is the next 4 token\n",
    "x = enc_sample[:context_size]\n",
    "y = enc_sample[1:context_size+1]\n",
    "\n",
    "print(f\"x: {x}\")\n",
    "print(f\"y: {y}\")"
   ]
  },
  {
   "cell_type": "code",
   "execution_count": 6,
   "id": "9602947e",
   "metadata": {},
   "outputs": [
    {
     "name": "stdout",
     "output_type": "stream",
     "text": [
      "[290] -------> 4920\n",
      "[290, 4920] -------> 2241\n",
      "[290, 4920, 2241] -------> 287\n",
      "[290, 4920, 2241, 287] -------> 257\n"
     ]
    }
   ],
   "source": [
    "for i in range(1, context_size+1):\n",
    "    context = enc_sample[:i]\n",
    "    desired = enc_sample[i]\n",
    "\n",
    "    print(context, \"------->\", desired)"
   ]
  },
  {
   "cell_type": "markdown",
   "id": "7e489ea3",
   "metadata": {},
   "source": [
    "Everything left of the arrow refers to the input and LLM would receive and the token ID on the right, LLM is supposed to predict"
   ]
  },
  {
   "cell_type": "code",
   "execution_count": 7,
   "id": "7672b141",
   "metadata": {},
   "outputs": [
    {
     "name": "stdout",
     "output_type": "stream",
     "text": [
      " and ------->  established\n",
      " and established ------->  himself\n",
      " and established himself ------->  in\n",
      " and established himself in ------->  a\n"
     ]
    }
   ],
   "source": [
    "for i in range(1, context_size+1):\n",
    "    context = enc_sample[:i]\n",
    "    desired = enc_sample[i]\n",
    "\n",
    "    print(tokenizer.decode(context), \"------->\", tokenizer.decode([desired]))"
   ]
  },
  {
   "cell_type": "markdown",
   "id": "815acab7",
   "metadata": {},
   "source": [
    "There is only one more task before we can turn the tokens into embeddings: implementing an efficient data loader that interates over the input datasets and returns the inputs and targets as pytorch tensors, which can be thought of  as multidimensional arrays"
   ]
  },
  {
   "cell_type": "markdown",
   "id": "d3b57ef1",
   "metadata": {},
   "source": [
    "### Implementing Data Loader"
   ]
  },
  {
   "cell_type": "markdown",
   "id": "55865a1c",
   "metadata": {},
   "source": [
    "step1: Tokenize the entire text\n",
    "\n",
    "step2: Use a sliding window to chunk the book into overlapping sequences of max_length\n",
    "\n",
    "setp3: Return the total number of rows in the dataset\n",
    "\n",
    "step4: Return a single row from the dataset"
   ]
  },
  {
   "cell_type": "code",
   "execution_count": 8,
   "id": "a71ea800",
   "metadata": {},
   "outputs": [],
   "source": [
    "from torch.utils.data import Dataset, DataLoader\n",
    "\n",
    "class GPTDatasetV1(Dataset):\n",
    "    def __init__(self, txt, tokenizer, max_length, stride):\n",
    "        self.input_ids = []\n",
    "        self.target_ids = []\n",
    "\n",
    "        # tokenize the entire text\n",
    "        token_ids = tokenizer.encode(txt, allowed_special={\"<|endoftext|>\"})\n",
    "\n",
    "        # Use a sliding window to chunk the book into overlapping sequences of max_lengths\n",
    "        for i in range(0, len(token_ids) - max_length, stride):\n",
    "            input_chunk = token_ids[i:i + max_length]\n",
    "            target_chunk = token_ids[i+1:i+max_length +1]\n",
    "            self.input_ids.append(torch.tensor(input_chunk))\n",
    "            self.target_ids.append(torch.tensor(target_chunk))\n",
    "\n",
    "    def __len__(self):\n",
    "        return len(self.input_ids)\n",
    "    \n",
    "    def __getitem__(self, idx):\n",
    "        return self.input_ids[idx], self.target_ids[idx]"
   ]
  },
  {
   "cell_type": "markdown",
   "id": "bb4a1bec",
   "metadata": {},
   "source": [
    "The following code will use the GPTDatasetV1 to load the inputs in batches via a pytorch DataLoader"
   ]
  },
  {
   "cell_type": "markdown",
   "id": "5e19e464",
   "metadata": {},
   "source": [
    "step1: Inintialize the tokenizer\n",
    "\n",
    "step2: Create dataset\n",
    "\n",
    "step3: drop_last=True drops the batch if it is shorter than the specified batch_size to prevent loss spikes during training\n",
    "\n",
    "step4: the number of cpu processes to use for preprocessing"
   ]
  },
  {
   "cell_type": "code",
   "execution_count": 9,
   "id": "69b01737",
   "metadata": {},
   "outputs": [],
   "source": [
    "def create_dataloader_v1(txt, batch_size=4, max_length=256,\n",
    "                         stride=128, shuffle=True, drop_last=True,\n",
    "                         num_workers=0):\n",
    "    # Initialize the tokenizer\n",
    "    tokenizer = tiktoken.get_encoding(\"gpt2\")\n",
    "\n",
    "    # create dataset\n",
    "    dataset = GPTDatasetV1(txt, tokenizer, max_length, stride)\n",
    "\n",
    "    # create dataloader\n",
    "    dataloader = DataLoader(\n",
    "        dataset,\n",
    "        batch_size=batch_size,\n",
    "        shuffle=shuffle,\n",
    "        drop_last=drop_last,\n",
    "        num_workers=num_workers\n",
    "    )\n",
    "    return dataloader"
   ]
  },
  {
   "cell_type": "markdown",
   "id": "7ca51181",
   "metadata": {},
   "source": [
    "Lets test the dataloader with batch size of 1 for an LLM with context size of 4\n",
    "This will develop an intuition of how the GPTDatasetV1 class and create_dataloader_v1 function work together:"
   ]
  },
  {
   "cell_type": "code",
   "execution_count": 10,
   "id": "9d04eb0c",
   "metadata": {},
   "outputs": [],
   "source": [
    "with open(\"the-verdict.txt\", \"r\", encoding=\"utf-8\") as f:\n",
    "    raw_text = f.read()"
   ]
  },
  {
   "cell_type": "markdown",
   "id": "548c32e0",
   "metadata": {},
   "source": [
    "### Convert dataloader into python iterator to fetch next entry via python's built-in next() function"
   ]
  },
  {
   "cell_type": "code",
   "execution_count": 11,
   "id": "3124e0e0",
   "metadata": {},
   "outputs": [
    {
     "name": "stdout",
     "output_type": "stream",
     "text": [
      "Pytorch version: 2.5.1+cu121\n",
      "[tensor([[  40,  367, 2885, 1464]]), tensor([[ 367, 2885, 1464, 1807]])]\n"
     ]
    }
   ],
   "source": [
    "import torch\n",
    "print(\"Pytorch version:\", torch.__version__)\n",
    "dataloader = create_dataloader_v1(raw_text, batch_size=1, max_length=4, stride=1, shuffle=False\n",
    "                                  )\n",
    "data_iter = iter(dataloader)\n",
    "first_batch = next(data_iter)\n",
    "print(first_batch)"
   ]
  },
  {
   "cell_type": "markdown",
   "id": "a391c266",
   "metadata": {},
   "source": [
    "The first_batch variables contains the two tensors: the first tensor stores the input token IDs and the second tensor stores target token IDs"
   ]
  },
  {
   "cell_type": "code",
   "execution_count": 12,
   "id": "a53f9ede",
   "metadata": {},
   "outputs": [
    {
     "name": "stdout",
     "output_type": "stream",
     "text": [
      "[tensor([[ 367, 2885, 1464, 1807]]), tensor([[2885, 1464, 1807, 3619]])]\n"
     ]
    }
   ],
   "source": [
    "second_batch = next(data_iter)\n",
    "print(second_batch)"
   ]
  },
  {
   "cell_type": "code",
   "execution_count": 13,
   "id": "676d797a",
   "metadata": {},
   "outputs": [
    {
     "name": "stdout",
     "output_type": "stream",
     "text": [
      "[tensor([[   40,   367,  2885,  1464],\n",
      "        [ 1807,  3619,   402,   271],\n",
      "        [10899,  2138,   257,  7026],\n",
      "        [15632,   438,  2016,   257],\n",
      "        [  922,  5891,  1576,   438],\n",
      "        [  568,   340,   373,   645],\n",
      "        [ 1049,  5975,   284,   502],\n",
      "        [  284,  3285,   326,    11]]), tensor([[  367,  2885,  1464,  1807],\n",
      "        [ 3619,   402,   271, 10899],\n",
      "        [ 2138,   257,  7026, 15632],\n",
      "        [  438,  2016,   257,   922],\n",
      "        [ 5891,  1576,   438,   568],\n",
      "        [  340,   373,   645,  1049],\n",
      "        [ 5975,   284,   502,   284],\n",
      "        [ 3285,   326,    11,   287]])]\n"
     ]
    }
   ],
   "source": [
    "dataloader = create_dataloader_v1(raw_text, batch_size=8, max_length=4, stride=4, shuffle=False\n",
    "                                  )\n",
    "data_iter = iter(dataloader)\n",
    "first_batch = next(data_iter)\n",
    "print(first_batch)"
   ]
  },
  {
   "cell_type": "markdown",
   "id": "5e20fba1",
   "metadata": {},
   "source": [
    "## Understanding and implementing token embeddings"
   ]
  },
  {
   "cell_type": "code",
   "execution_count": 1,
   "id": "f758a884",
   "metadata": {},
   "outputs": [
    {
     "name": "stdout",
     "output_type": "stream",
     "text": [
      "Collecting gensim\n",
      "  Downloading gensim-4.3.3-cp311-cp311-win_amd64.whl.metadata (8.2 kB)\n",
      "Collecting numpy<2.0,>=1.18.5 (from gensim)\n",
      "  Downloading numpy-1.26.4-cp311-cp311-win_amd64.whl.metadata (61 kB)\n",
      "     ---------------------------------------- 0.0/61.0 kB ? eta -:--:--\n",
      "     ------------------- ------------------ 30.7/61.0 kB 660.6 kB/s eta 0:00:01\n",
      "     -------------------------------------- 61.0/61.0 kB 819.4 kB/s eta 0:00:00\n",
      "Collecting scipy<1.14.0,>=1.7.0 (from gensim)\n",
      "  Downloading scipy-1.13.1-cp311-cp311-win_amd64.whl.metadata (60 kB)\n",
      "     ---------------------------------------- 0.0/60.6 kB ? eta -:--:--\n",
      "     ---------------------------------------- 60.6/60.6 kB 3.1 MB/s eta 0:00:00\n",
      "Collecting smart-open>=1.8.1 (from gensim)\n",
      "  Downloading smart_open-7.3.0.post1-py3-none-any.whl.metadata (24 kB)\n",
      "Collecting wrapt (from smart-open>=1.8.1->gensim)\n",
      "  Downloading wrapt-1.17.2-cp311-cp311-win_amd64.whl.metadata (6.5 kB)\n",
      "Downloading gensim-4.3.3-cp311-cp311-win_amd64.whl (24.0 MB)\n",
      "   ---------------------------------------- 0.0/24.0 MB ? eta -:--:--\n",
      "   ---------------------------------------- 0.1/24.0 MB 6.4 MB/s eta 0:00:04\n",
      "   ---------------------------------------- 0.2/24.0 MB 2.1 MB/s eta 0:00:12\n",
      "    --------------------------------------- 0.4/24.0 MB 2.7 MB/s eta 0:00:09\n",
      "    --------------------------------------- 0.6/24.0 MB 2.9 MB/s eta 0:00:08\n",
      "   - -------------------------------------- 0.8/24.0 MB 3.3 MB/s eta 0:00:08\n",
      "   - -------------------------------------- 1.0/24.0 MB 3.6 MB/s eta 0:00:07\n",
      "   -- ------------------------------------- 1.2/24.0 MB 3.7 MB/s eta 0:00:07\n",
      "   -- ------------------------------------- 1.5/24.0 MB 3.9 MB/s eta 0:00:06\n",
      "   -- ------------------------------------- 1.7/24.0 MB 4.0 MB/s eta 0:00:06\n",
      "   --- ------------------------------------ 2.0/24.0 MB 4.3 MB/s eta 0:00:06\n",
      "   --- ------------------------------------ 2.3/24.0 MB 4.4 MB/s eta 0:00:05\n",
      "   ---- ----------------------------------- 2.6/24.0 MB 4.6 MB/s eta 0:00:05\n",
      "   ---- ----------------------------------- 2.9/24.0 MB 4.8 MB/s eta 0:00:05\n",
      "   ----- ---------------------------------- 3.3/24.0 MB 5.0 MB/s eta 0:00:05\n",
      "   ----- ---------------------------------- 3.5/24.0 MB 5.1 MB/s eta 0:00:05\n",
      "   ----- ---------------------------------- 3.5/24.0 MB 5.1 MB/s eta 0:00:05\n",
      "   ------ --------------------------------- 4.0/24.0 MB 5.0 MB/s eta 0:00:05\n",
      "   ------- -------------------------------- 4.2/24.0 MB 5.0 MB/s eta 0:00:04\n",
      "   ------- -------------------------------- 4.5/24.0 MB 5.0 MB/s eta 0:00:04\n",
      "   ------- -------------------------------- 4.7/24.0 MB 5.1 MB/s eta 0:00:04\n",
      "   -------- ------------------------------- 5.0/24.0 MB 5.1 MB/s eta 0:00:04\n",
      "   -------- ------------------------------- 5.3/24.0 MB 5.1 MB/s eta 0:00:04\n",
      "   --------- ------------------------------ 5.6/24.0 MB 5.2 MB/s eta 0:00:04\n",
      "   --------- ------------------------------ 5.8/24.0 MB 5.2 MB/s eta 0:00:04\n",
      "   ---------- ----------------------------- 6.1/24.0 MB 5.3 MB/s eta 0:00:04\n",
      "   ---------- ----------------------------- 6.4/24.0 MB 5.3 MB/s eta 0:00:04\n",
      "   ----------- ---------------------------- 6.6/24.0 MB 5.3 MB/s eta 0:00:04\n",
      "   ----------- ---------------------------- 6.9/24.0 MB 5.3 MB/s eta 0:00:04\n",
      "   ----------- ---------------------------- 7.2/24.0 MB 5.3 MB/s eta 0:00:04\n",
      "   ------------ --------------------------- 7.4/24.0 MB 5.3 MB/s eta 0:00:04\n",
      "   ------------ --------------------------- 7.7/24.0 MB 5.4 MB/s eta 0:00:04\n",
      "   ------------- -------------------------- 8.0/24.0 MB 5.4 MB/s eta 0:00:03\n",
      "   ------------- -------------------------- 8.3/24.0 MB 5.4 MB/s eta 0:00:03\n",
      "   -------------- ------------------------- 8.6/24.0 MB 5.4 MB/s eta 0:00:03\n",
      "   -------------- ------------------------- 8.8/24.0 MB 5.4 MB/s eta 0:00:03\n",
      "   --------------- ------------------------ 9.1/24.0 MB 5.5 MB/s eta 0:00:03\n",
      "   --------------- ------------------------ 9.4/24.0 MB 5.5 MB/s eta 0:00:03\n",
      "   ---------------- ----------------------- 9.7/24.0 MB 5.5 MB/s eta 0:00:03\n",
      "   ---------------- ----------------------- 10.0/24.0 MB 5.5 MB/s eta 0:00:03\n",
      "   ----------------- ---------------------- 10.3/24.0 MB 5.5 MB/s eta 0:00:03\n",
      "   ----------------- ---------------------- 10.6/24.0 MB 5.7 MB/s eta 0:00:03\n",
      "   ------------------ --------------------- 10.9/24.0 MB 5.8 MB/s eta 0:00:03\n",
      "   ------------------ --------------------- 11.2/24.0 MB 5.9 MB/s eta 0:00:03\n",
      "   ------------------- -------------------- 11.5/24.0 MB 6.0 MB/s eta 0:00:03\n",
      "   ------------------- -------------------- 11.8/24.0 MB 6.0 MB/s eta 0:00:03\n",
      "   -------------------- ------------------- 12.1/24.0 MB 6.0 MB/s eta 0:00:02\n",
      "   -------------------- ------------------- 12.4/24.0 MB 6.1 MB/s eta 0:00:02\n",
      "   --------------------- ------------------ 12.7/24.0 MB 6.0 MB/s eta 0:00:02\n",
      "   --------------------- ------------------ 13.0/24.0 MB 6.0 MB/s eta 0:00:02\n",
      "   ---------------------- ----------------- 13.3/24.0 MB 6.0 MB/s eta 0:00:02\n",
      "   ---------------------- ----------------- 13.7/24.0 MB 6.1 MB/s eta 0:00:02\n",
      "   ----------------------- ---------------- 14.0/24.0 MB 6.1 MB/s eta 0:00:02\n",
      "   ----------------------- ---------------- 14.3/24.0 MB 6.2 MB/s eta 0:00:02\n",
      "   ------------------------ --------------- 14.7/24.0 MB 6.2 MB/s eta 0:00:02\n",
      "   ------------------------ --------------- 15.0/24.0 MB 6.3 MB/s eta 0:00:02\n",
      "   ------------------------- -------------- 15.3/24.0 MB 6.3 MB/s eta 0:00:02\n",
      "   -------------------------- ------------- 15.7/24.0 MB 6.4 MB/s eta 0:00:02\n",
      "   -------------------------- ------------- 16.0/24.0 MB 6.5 MB/s eta 0:00:02\n",
      "   --------------------------- ------------ 16.3/24.0 MB 6.4 MB/s eta 0:00:02\n",
      "   --------------------------- ------------ 16.6/24.0 MB 6.5 MB/s eta 0:00:02\n",
      "   ---------------------------- ----------- 17.0/24.0 MB 6.5 MB/s eta 0:00:02\n",
      "   ---------------------------- ----------- 17.3/24.0 MB 6.6 MB/s eta 0:00:02\n",
      "   ----------------------------- ---------- 17.7/24.0 MB 6.7 MB/s eta 0:00:01\n",
      "   ------------------------------ --------- 18.0/24.0 MB 6.7 MB/s eta 0:00:01\n",
      "   ------------------------------ --------- 18.4/24.0 MB 6.8 MB/s eta 0:00:01\n",
      "   ------------------------------- -------- 18.7/24.0 MB 6.8 MB/s eta 0:00:01\n",
      "   ------------------------------- -------- 19.0/24.0 MB 6.8 MB/s eta 0:00:01\n",
      "   -------------------------------- ------- 19.4/24.0 MB 6.9 MB/s eta 0:00:01\n",
      "   -------------------------------- ------- 19.7/24.0 MB 7.0 MB/s eta 0:00:01\n",
      "   --------------------------------- ------ 20.1/24.0 MB 7.0 MB/s eta 0:00:01\n",
      "   ---------------------------------- ----- 20.4/24.0 MB 7.0 MB/s eta 0:00:01\n",
      "   ---------------------------------- ----- 20.8/24.0 MB 7.0 MB/s eta 0:00:01\n",
      "   ----------------------------------- ---- 21.1/24.0 MB 7.0 MB/s eta 0:00:01\n",
      "   ----------------------------------- ---- 21.4/24.0 MB 7.0 MB/s eta 0:00:01\n",
      "   ------------------------------------ --- 21.7/24.0 MB 7.0 MB/s eta 0:00:01\n",
      "   ------------------------------------ --- 22.1/24.0 MB 7.1 MB/s eta 0:00:01\n",
      "   ------------------------------------- -- 22.5/24.0 MB 7.2 MB/s eta 0:00:01\n",
      "   ------------------------------------- -- 22.8/24.0 MB 7.3 MB/s eta 0:00:01\n",
      "   -------------------------------------- - 23.1/24.0 MB 7.3 MB/s eta 0:00:01\n",
      "   ---------------------------------------  23.5/24.0 MB 7.3 MB/s eta 0:00:01\n",
      "   ---------------------------------------  23.8/24.0 MB 7.4 MB/s eta 0:00:01\n",
      "   ---------------------------------------  24.0/24.0 MB 7.4 MB/s eta 0:00:01\n",
      "   ---------------------------------------- 24.0/24.0 MB 7.1 MB/s eta 0:00:00\n",
      "Downloading numpy-1.26.4-cp311-cp311-win_amd64.whl (15.8 MB)\n",
      "   ---------------------------------------- 0.0/15.8 MB ? eta -:--:--\n",
      "    --------------------------------------- 0.3/15.8 MB 9.6 MB/s eta 0:00:02\n",
      "   - -------------------------------------- 0.7/15.8 MB 8.4 MB/s eta 0:00:02\n",
      "   -- ------------------------------------- 1.0/15.8 MB 7.9 MB/s eta 0:00:02\n",
      "   --- ------------------------------------ 1.3/15.8 MB 7.4 MB/s eta 0:00:02\n",
      "   --- ------------------------------------ 1.4/15.8 MB 6.4 MB/s eta 0:00:03\n",
      "   ---- ----------------------------------- 1.6/15.8 MB 6.2 MB/s eta 0:00:03\n",
      "   ----- ---------------------------------- 2.0/15.8 MB 6.4 MB/s eta 0:00:03\n",
      "   ------ --------------------------------- 2.4/15.8 MB 6.6 MB/s eta 0:00:03\n",
      "   ------ --------------------------------- 2.7/15.8 MB 6.7 MB/s eta 0:00:02\n",
      "   ------- -------------------------------- 3.1/15.8 MB 6.8 MB/s eta 0:00:02\n",
      "   -------- ------------------------------- 3.5/15.8 MB 6.9 MB/s eta 0:00:02\n",
      "   --------- ------------------------------ 3.6/15.8 MB 6.5 MB/s eta 0:00:02\n",
      "   --------- ------------------------------ 3.9/15.8 MB 6.6 MB/s eta 0:00:02\n",
      "   ---------- ----------------------------- 4.3/15.8 MB 6.7 MB/s eta 0:00:02\n",
      "   ----------- ---------------------------- 4.6/15.8 MB 6.7 MB/s eta 0:00:02\n",
      "   ------------ --------------------------- 5.0/15.8 MB 6.8 MB/s eta 0:00:02\n",
      "   ------------- -------------------------- 5.2/15.8 MB 6.8 MB/s eta 0:00:02\n",
      "   -------------- ------------------------- 5.6/15.8 MB 6.8 MB/s eta 0:00:02\n",
      "   -------------- ------------------------- 5.9/15.8 MB 6.8 MB/s eta 0:00:02\n",
      "   --------------- ------------------------ 6.3/15.8 MB 6.8 MB/s eta 0:00:02\n",
      "   ---------------- ----------------------- 6.6/15.8 MB 6.8 MB/s eta 0:00:02\n",
      "   ----------------- ---------------------- 7.0/15.8 MB 6.9 MB/s eta 0:00:02\n",
      "   ------------------ --------------------- 7.4/15.8 MB 6.9 MB/s eta 0:00:02\n",
      "   ------------------- -------------------- 7.7/15.8 MB 6.9 MB/s eta 0:00:02\n",
      "   -------------------- ------------------- 8.0/15.8 MB 7.0 MB/s eta 0:00:02\n",
      "   --------------------- ------------------ 8.4/15.8 MB 7.0 MB/s eta 0:00:02\n",
      "   ---------------------- ----------------- 8.8/15.8 MB 7.0 MB/s eta 0:00:02\n",
      "   ----------------------- ---------------- 9.1/15.8 MB 7.0 MB/s eta 0:00:01\n",
      "   ----------------------- ---------------- 9.4/15.8 MB 7.0 MB/s eta 0:00:01\n",
      "   ------------------------ --------------- 9.7/15.8 MB 7.0 MB/s eta 0:00:01\n",
      "   ------------------------- -------------- 10.0/15.8 MB 7.0 MB/s eta 0:00:01\n",
      "   -------------------------- ------------- 10.3/15.8 MB 6.9 MB/s eta 0:00:01\n",
      "   -------------------------- ------------- 10.6/15.8 MB 6.9 MB/s eta 0:00:01\n",
      "   --------------------------- ------------ 10.7/15.8 MB 6.7 MB/s eta 0:00:01\n",
      "   --------------------------- ------------ 11.0/15.8 MB 6.7 MB/s eta 0:00:01\n",
      "   ---------------------------- ----------- 11.4/15.8 MB 6.7 MB/s eta 0:00:01\n",
      "   ----------------------------- ---------- 11.8/15.8 MB 6.8 MB/s eta 0:00:01\n",
      "   ------------------------------ --------- 12.1/15.8 MB 7.0 MB/s eta 0:00:01\n",
      "   ------------------------------- -------- 12.5/15.8 MB 7.0 MB/s eta 0:00:01\n",
      "   -------------------------------- ------- 12.9/15.8 MB 7.0 MB/s eta 0:00:01\n",
      "   --------------------------------- ------ 13.2/15.8 MB 7.0 MB/s eta 0:00:01\n",
      "   ---------------------------------- ----- 13.6/15.8 MB 7.0 MB/s eta 0:00:01\n",
      "   ----------------------------------- ---- 13.9/15.8 MB 7.1 MB/s eta 0:00:01\n",
      "   ------------------------------------ --- 14.3/15.8 MB 7.1 MB/s eta 0:00:01\n",
      "   ------------------------------------- -- 14.7/15.8 MB 7.1 MB/s eta 0:00:01\n",
      "   -------------------------------------- - 15.0/15.8 MB 7.1 MB/s eta 0:00:01\n",
      "   -------------------------------------- - 15.4/15.8 MB 7.1 MB/s eta 0:00:01\n",
      "   ---------------------------------------  15.8/15.8 MB 7.3 MB/s eta 0:00:01\n",
      "   ---------------------------------------- 15.8/15.8 MB 7.1 MB/s eta 0:00:00\n",
      "Downloading scipy-1.13.1-cp311-cp311-win_amd64.whl (46.2 MB)\n",
      "   ---------------------------------------- 0.0/46.2 MB ? eta -:--:--\n",
      "   ---------------------------------------- 0.3/46.2 MB 7.0 MB/s eta 0:00:07\n",
      "    --------------------------------------- 0.7/46.2 MB 7.7 MB/s eta 0:00:06\n",
      "    --------------------------------------- 1.1/46.2 MB 7.7 MB/s eta 0:00:06\n",
      "   - -------------------------------------- 1.5/46.2 MB 7.8 MB/s eta 0:00:06\n",
      "   - -------------------------------------- 1.8/46.2 MB 7.8 MB/s eta 0:00:06\n",
      "   - -------------------------------------- 2.2/46.2 MB 7.8 MB/s eta 0:00:06\n",
      "   -- ------------------------------------- 2.6/46.2 MB 7.8 MB/s eta 0:00:06\n",
      "   -- ------------------------------------- 2.9/46.2 MB 7.7 MB/s eta 0:00:06\n",
      "   -- ------------------------------------- 3.3/46.2 MB 7.7 MB/s eta 0:00:06\n",
      "   --- ------------------------------------ 3.5/46.2 MB 7.7 MB/s eta 0:00:06\n",
      "   --- ------------------------------------ 3.8/46.2 MB 7.4 MB/s eta 0:00:06\n",
      "   --- ------------------------------------ 4.2/46.2 MB 7.4 MB/s eta 0:00:06\n",
      "   --- ------------------------------------ 4.5/46.2 MB 7.4 MB/s eta 0:00:06\n",
      "   ---- ----------------------------------- 4.8/46.2 MB 7.4 MB/s eta 0:00:06\n",
      "   ---- ----------------------------------- 5.2/46.2 MB 7.4 MB/s eta 0:00:06\n",
      "   ---- ----------------------------------- 5.6/46.2 MB 7.4 MB/s eta 0:00:06\n",
      "   ----- ---------------------------------- 5.9/46.2 MB 7.5 MB/s eta 0:00:06\n",
      "   ----- ---------------------------------- 6.3/46.2 MB 7.5 MB/s eta 0:00:06\n",
      "   ----- ---------------------------------- 6.7/46.2 MB 7.6 MB/s eta 0:00:06\n",
      "   ------ --------------------------------- 7.1/46.2 MB 7.5 MB/s eta 0:00:06\n",
      "   ------ --------------------------------- 7.4/46.2 MB 7.7 MB/s eta 0:00:06\n",
      "   ------ --------------------------------- 7.8/46.2 MB 7.7 MB/s eta 0:00:05\n",
      "   ------- -------------------------------- 8.2/46.2 MB 7.7 MB/s eta 0:00:05\n",
      "   ------- -------------------------------- 8.6/46.2 MB 7.8 MB/s eta 0:00:05\n",
      "   ------- -------------------------------- 9.0/46.2 MB 7.8 MB/s eta 0:00:05\n",
      "   -------- ------------------------------- 9.3/46.2 MB 7.7 MB/s eta 0:00:05\n",
      "   -------- ------------------------------- 9.5/46.2 MB 7.6 MB/s eta 0:00:05\n",
      "   -------- ------------------------------- 9.9/46.2 MB 7.6 MB/s eta 0:00:05\n",
      "   -------- ------------------------------- 10.3/46.2 MB 7.6 MB/s eta 0:00:05\n",
      "   --------- ------------------------------ 10.7/46.2 MB 7.6 MB/s eta 0:00:05\n",
      "   --------- ------------------------------ 11.1/46.2 MB 7.6 MB/s eta 0:00:05\n",
      "   --------- ------------------------------ 11.4/46.2 MB 7.6 MB/s eta 0:00:05\n",
      "   ---------- ----------------------------- 11.8/46.2 MB 7.7 MB/s eta 0:00:05\n",
      "   ---------- ----------------------------- 12.2/46.2 MB 7.7 MB/s eta 0:00:05\n",
      "   ---------- ----------------------------- 12.6/46.2 MB 7.7 MB/s eta 0:00:05\n",
      "   ----------- ---------------------------- 13.0/46.2 MB 7.7 MB/s eta 0:00:05\n",
      "   ----------- ---------------------------- 13.4/46.2 MB 7.7 MB/s eta 0:00:05\n",
      "   ----------- ---------------------------- 13.7/46.2 MB 7.9 MB/s eta 0:00:05\n",
      "   ------------ --------------------------- 14.1/46.2 MB 8.0 MB/s eta 0:00:05\n",
      "   ------------ --------------------------- 14.4/46.2 MB 8.0 MB/s eta 0:00:04\n",
      "   ------------ --------------------------- 14.8/46.2 MB 8.0 MB/s eta 0:00:04\n",
      "   ------------- -------------------------- 15.1/46.2 MB 7.9 MB/s eta 0:00:04\n",
      "   ------------- -------------------------- 15.4/46.2 MB 7.9 MB/s eta 0:00:04\n",
      "   ------------- -------------------------- 15.8/46.2 MB 7.9 MB/s eta 0:00:04\n",
      "   ------------- -------------------------- 16.0/46.2 MB 7.9 MB/s eta 0:00:04\n",
      "   ------------- -------------------------- 16.1/46.2 MB 7.5 MB/s eta 0:00:04\n",
      "   -------------- ------------------------- 16.4/46.2 MB 7.4 MB/s eta 0:00:05\n",
      "   -------------- ------------------------- 16.8/46.2 MB 7.4 MB/s eta 0:00:04\n",
      "   -------------- ------------------------- 17.2/46.2 MB 7.5 MB/s eta 0:00:04\n",
      "   --------------- ------------------------ 17.6/46.2 MB 7.6 MB/s eta 0:00:04\n",
      "   --------------- ------------------------ 18.0/46.2 MB 7.6 MB/s eta 0:00:04\n",
      "   --------------- ------------------------ 18.4/46.2 MB 7.6 MB/s eta 0:00:04\n",
      "   ---------------- ----------------------- 18.8/46.2 MB 7.6 MB/s eta 0:00:04\n",
      "   ---------------- ----------------------- 19.2/46.2 MB 7.6 MB/s eta 0:00:04\n",
      "   ---------------- ----------------------- 19.6/46.2 MB 7.8 MB/s eta 0:00:04\n",
      "   ----------------- ---------------------- 20.0/46.2 MB 7.8 MB/s eta 0:00:04\n",
      "   ----------------- ---------------------- 20.4/46.2 MB 7.9 MB/s eta 0:00:04\n",
      "   ------------------ --------------------- 20.8/46.2 MB 7.9 MB/s eta 0:00:04\n",
      "   ------------------ --------------------- 21.2/46.2 MB 7.9 MB/s eta 0:00:04\n",
      "   ------------------ --------------------- 21.5/46.2 MB 7.8 MB/s eta 0:00:04\n",
      "   ------------------ --------------------- 21.8/46.2 MB 7.9 MB/s eta 0:00:04\n",
      "   ------------------- -------------------- 22.2/46.2 MB 7.7 MB/s eta 0:00:04\n",
      "   ------------------- -------------------- 22.4/46.2 MB 7.6 MB/s eta 0:00:04\n",
      "   ------------------- -------------------- 22.8/46.2 MB 7.7 MB/s eta 0:00:04\n",
      "   -------------------- ------------------- 23.2/46.2 MB 7.6 MB/s eta 0:00:04\n",
      "   -------------------- ------------------- 23.6/46.2 MB 7.6 MB/s eta 0:00:03\n",
      "   -------------------- ------------------- 24.0/46.2 MB 7.7 MB/s eta 0:00:03\n",
      "   --------------------- ------------------ 24.4/46.2 MB 7.7 MB/s eta 0:00:03\n",
      "   --------------------- ------------------ 24.8/46.2 MB 7.7 MB/s eta 0:00:03\n",
      "   --------------------- ------------------ 25.2/46.2 MB 7.7 MB/s eta 0:00:03\n",
      "   ---------------------- ----------------- 25.6/46.2 MB 7.8 MB/s eta 0:00:03\n",
      "   ---------------------- ----------------- 26.0/46.2 MB 7.8 MB/s eta 0:00:03\n",
      "   ---------------------- ----------------- 26.4/46.2 MB 8.3 MB/s eta 0:00:03\n",
      "   ----------------------- ---------------- 26.9/46.2 MB 8.3 MB/s eta 0:00:03\n",
      "   ----------------------- ---------------- 27.3/46.2 MB 8.4 MB/s eta 0:00:03\n",
      "   ----------------------- ---------------- 27.7/46.2 MB 8.4 MB/s eta 0:00:03\n",
      "   ------------------------ --------------- 28.1/46.2 MB 8.4 MB/s eta 0:00:03\n",
      "   ------------------------ --------------- 28.6/46.2 MB 8.4 MB/s eta 0:00:03\n",
      "   ------------------------- -------------- 29.0/46.2 MB 8.4 MB/s eta 0:00:03\n",
      "   ------------------------- -------------- 29.5/46.2 MB 8.5 MB/s eta 0:00:02\n",
      "   ------------------------- -------------- 29.7/46.2 MB 8.3 MB/s eta 0:00:02\n",
      "   ------------------------- -------------- 29.8/46.2 MB 8.1 MB/s eta 0:00:03\n",
      "   -------------------------- ------------- 30.2/46.2 MB 8.2 MB/s eta 0:00:02\n",
      "   -------------------------- ------------- 30.7/46.2 MB 8.2 MB/s eta 0:00:02\n",
      "   -------------------------- ------------- 31.0/46.2 MB 8.1 MB/s eta 0:00:02\n",
      "   --------------------------- ------------ 31.5/46.2 MB 8.2 MB/s eta 0:00:02\n",
      "   --------------------------- ------------ 31.9/46.2 MB 8.3 MB/s eta 0:00:02\n",
      "   --------------------------- ------------ 32.3/46.2 MB 8.4 MB/s eta 0:00:02\n",
      "   ---------------------------- ----------- 32.7/46.2 MB 8.5 MB/s eta 0:00:02\n",
      "   ---------------------------- ----------- 33.2/46.2 MB 8.7 MB/s eta 0:00:02\n",
      "   ----------------------------- ---------- 33.7/46.2 MB 8.7 MB/s eta 0:00:02\n",
      "   ----------------------------- ---------- 34.1/46.2 MB 8.6 MB/s eta 0:00:02\n",
      "   ----------------------------- ---------- 34.5/46.2 MB 8.8 MB/s eta 0:00:02\n",
      "   ------------------------------ --------- 35.0/46.2 MB 8.8 MB/s eta 0:00:02\n",
      "   ------------------------------ --------- 35.4/46.2 MB 8.8 MB/s eta 0:00:02\n",
      "   ------------------------------- -------- 35.9/46.2 MB 8.8 MB/s eta 0:00:02\n",
      "   ------------------------------- -------- 36.3/46.2 MB 8.8 MB/s eta 0:00:02\n",
      "   ------------------------------- -------- 36.8/46.2 MB 8.8 MB/s eta 0:00:02\n",
      "   -------------------------------- ------- 37.2/46.2 MB 8.8 MB/s eta 0:00:02\n",
      "   -------------------------------- ------- 37.6/46.2 MB 8.8 MB/s eta 0:00:01\n",
      "   -------------------------------- ------- 38.1/46.2 MB 9.0 MB/s eta 0:00:01\n",
      "   --------------------------------- ------ 38.5/46.2 MB 9.0 MB/s eta 0:00:01\n",
      "   --------------------------------- ------ 39.0/46.2 MB 9.0 MB/s eta 0:00:01\n",
      "   ---------------------------------- ----- 39.4/46.2 MB 9.0 MB/s eta 0:00:01\n",
      "   ---------------------------------- ----- 39.9/46.2 MB 9.0 MB/s eta 0:00:01\n",
      "   ---------------------------------- ----- 40.3/46.2 MB 9.5 MB/s eta 0:00:01\n",
      "   ----------------------------------- ---- 40.8/46.2 MB 9.5 MB/s eta 0:00:01\n",
      "   ----------------------------------- ---- 41.2/46.2 MB 9.6 MB/s eta 0:00:01\n",
      "   ------------------------------------ --- 41.7/46.2 MB 9.6 MB/s eta 0:00:01\n",
      "   ------------------------------------ --- 42.2/46.2 MB 9.6 MB/s eta 0:00:01\n",
      "   ------------------------------------ --- 42.7/46.2 MB 9.6 MB/s eta 0:00:01\n",
      "   ------------------------------------- -- 43.1/46.2 MB 9.6 MB/s eta 0:00:01\n",
      "   ------------------------------------- -- 43.6/46.2 MB 9.6 MB/s eta 0:00:01\n",
      "   -------------------------------------- - 44.0/46.2 MB 9.6 MB/s eta 0:00:01\n",
      "   -------------------------------------- - 44.5/46.2 MB 9.6 MB/s eta 0:00:01\n",
      "   -------------------------------------- - 44.9/46.2 MB 9.6 MB/s eta 0:00:01\n",
      "   ---------------------------------------  45.4/46.2 MB 9.8 MB/s eta 0:00:01\n",
      "   ---------------------------------------  45.9/46.2 MB 9.8 MB/s eta 0:00:01\n",
      "   ---------------------------------------  46.2/46.2 MB 9.8 MB/s eta 0:00:01\n",
      "   ---------------------------------------- 46.2/46.2 MB 9.2 MB/s eta 0:00:00\n",
      "Downloading smart_open-7.3.0.post1-py3-none-any.whl (61 kB)\n",
      "   ---------------------------------------- 0.0/61.9 kB ? eta -:--:--\n",
      "   ---------------------------------------- 61.9/61.9 kB ? eta 0:00:00\n",
      "Downloading wrapt-1.17.2-cp311-cp311-win_amd64.whl (38 kB)\n",
      "Installing collected packages: wrapt, numpy, smart-open, scipy, gensim\n",
      "  Attempting uninstall: numpy\n",
      "    Found existing installation: numpy 2.2.2\n",
      "    Uninstalling numpy-2.2.2:\n",
      "      Successfully uninstalled numpy-2.2.2\n",
      "  Attempting uninstall: scipy\n",
      "    Found existing installation: scipy 1.15.1\n",
      "    Uninstalling scipy-1.15.1:\n",
      "      Successfully uninstalled scipy-1.15.1\n",
      "Successfully installed gensim-4.3.3 numpy-1.26.4 scipy-1.13.1 smart-open-7.3.0.post1 wrapt-1.17.2\n",
      "Note: you may need to restart the kernel to use updated packages.\n"
     ]
    },
    {
     "name": "stderr",
     "output_type": "stream",
     "text": [
      "  WARNING: Failed to remove contents in a temporary directory 'C:\\Users\\Lenovo\\Desktop\\AI_LAB\\aienv\\Lib\\site-packages\\~umpy.libs'.\n",
      "  You can safely remove it manually.\n",
      "  WARNING: Failed to remove contents in a temporary directory 'C:\\Users\\Lenovo\\Desktop\\AI_LAB\\aienv\\Lib\\site-packages\\~umpy'.\n",
      "  You can safely remove it manually.\n",
      "  WARNING: Failed to remove contents in a temporary directory 'C:\\Users\\Lenovo\\Desktop\\AI_LAB\\aienv\\Lib\\site-packages\\~cipy.libs'.\n",
      "  You can safely remove it manually.\n",
      "  WARNING: Failed to remove contents in a temporary directory 'C:\\Users\\Lenovo\\Desktop\\AI_LAB\\aienv\\Lib\\site-packages\\~cipy'.\n",
      "  You can safely remove it manually.\n",
      "\n",
      "[notice] A new release of pip is available: 24.0 -> 25.1.1\n",
      "[notice] To update, run: python.exe -m pip install --upgrade pip\n"
     ]
    }
   ],
   "source": [
    "pip install gensim"
   ]
  },
  {
   "cell_type": "markdown",
   "id": "32ca9203",
   "metadata": {},
   "source": [
    "### Import trained model"
   ]
  },
  {
   "cell_type": "code",
   "execution_count": 2,
   "id": "7b74a09e",
   "metadata": {},
   "outputs": [
    {
     "name": "stdout",
     "output_type": "stream",
     "text": [
      "[==================================================] 100.0% 1662.8/1662.8MB downloaded\n"
     ]
    }
   ],
   "source": [
    "import gensim.downloader as api\n",
    "model = api.load(\"word2vec-google-news-300\") # download the model and returns as object ready for use"
   ]
  },
  {
   "cell_type": "markdown",
   "id": "712ea560",
   "metadata": {},
   "source": [
    "#### Example if a word as a vector"
   ]
  },
  {
   "cell_type": "code",
   "execution_count": 3,
   "id": "6e7b29e3",
   "metadata": {},
   "outputs": [
    {
     "name": "stdout",
     "output_type": "stream",
     "text": [
      "[ 1.07421875e-01 -2.01171875e-01  1.23046875e-01  2.11914062e-01\n",
      " -9.13085938e-02  2.16796875e-01 -1.31835938e-01  8.30078125e-02\n",
      "  2.02148438e-01  4.78515625e-02  3.66210938e-02 -2.45361328e-02\n",
      "  2.39257812e-02 -1.60156250e-01 -2.61230469e-02  9.71679688e-02\n",
      " -6.34765625e-02  1.84570312e-01  1.70898438e-01 -1.63085938e-01\n",
      " -1.09375000e-01  1.49414062e-01 -4.65393066e-04  9.61914062e-02\n",
      "  1.68945312e-01  2.60925293e-03  8.93554688e-02  6.49414062e-02\n",
      "  3.56445312e-02 -6.93359375e-02 -1.46484375e-01 -1.21093750e-01\n",
      " -2.27539062e-01  2.45361328e-02 -1.24511719e-01 -3.18359375e-01\n",
      " -2.20703125e-01  1.30859375e-01  3.66210938e-02 -3.63769531e-02\n",
      " -1.13281250e-01  1.95312500e-01  9.76562500e-02  1.26953125e-01\n",
      "  6.59179688e-02  6.93359375e-02  1.02539062e-02  1.75781250e-01\n",
      " -1.68945312e-01  1.21307373e-03 -2.98828125e-01 -1.15234375e-01\n",
      "  5.66406250e-02 -1.77734375e-01 -2.08984375e-01  1.76757812e-01\n",
      "  2.38037109e-02 -2.57812500e-01 -4.46777344e-02  1.88476562e-01\n",
      "  5.51757812e-02  5.02929688e-02 -1.06933594e-01  1.89453125e-01\n",
      " -1.16210938e-01  8.49609375e-02 -1.71875000e-01  2.45117188e-01\n",
      " -1.73828125e-01 -8.30078125e-03  4.56542969e-02 -1.61132812e-02\n",
      "  1.86523438e-01 -6.05468750e-02 -4.17480469e-02  1.82617188e-01\n",
      "  2.20703125e-01 -1.22558594e-01 -2.55126953e-02 -3.08593750e-01\n",
      "  9.13085938e-02  1.60156250e-01  1.70898438e-01  1.19628906e-01\n",
      "  7.08007812e-02 -2.64892578e-02 -3.08837891e-02  4.06250000e-01\n",
      " -1.01562500e-01  5.71289062e-02 -7.26318359e-03 -9.17968750e-02\n",
      " -1.50390625e-01 -2.55859375e-01  2.16796875e-01 -3.63769531e-02\n",
      "  2.24609375e-01  8.00781250e-02  1.56250000e-01  5.27343750e-02\n",
      "  1.50390625e-01 -1.14746094e-01 -8.64257812e-02  1.19140625e-01\n",
      " -7.17773438e-02  2.73437500e-01 -1.64062500e-01  7.29370117e-03\n",
      "  4.21875000e-01 -1.12792969e-01 -1.35742188e-01 -1.31835938e-01\n",
      " -1.37695312e-01 -7.66601562e-02  6.25000000e-02  4.98046875e-02\n",
      " -1.91406250e-01 -6.03027344e-02  2.27539062e-01  5.88378906e-02\n",
      " -3.24218750e-01  5.41992188e-02 -1.35742188e-01  8.17871094e-03\n",
      " -5.24902344e-02 -1.74713135e-03 -9.81445312e-02 -2.86865234e-02\n",
      "  3.61328125e-02  2.15820312e-01  5.98144531e-02 -3.08593750e-01\n",
      " -2.27539062e-01  2.61718750e-01  9.86328125e-02 -5.07812500e-02\n",
      "  1.78222656e-02  1.31835938e-01 -5.35156250e-01 -1.81640625e-01\n",
      "  1.38671875e-01 -3.10546875e-01 -9.71679688e-02  1.31835938e-01\n",
      " -1.16210938e-01  7.03125000e-02  2.85156250e-01  3.51562500e-02\n",
      " -1.01562500e-01 -3.75976562e-02  1.41601562e-01  1.42578125e-01\n",
      " -5.68847656e-02  2.65625000e-01 -2.09960938e-01  9.64355469e-03\n",
      " -6.68945312e-02 -4.83398438e-02 -6.10351562e-02  2.45117188e-01\n",
      " -9.66796875e-02  1.78222656e-02 -1.27929688e-01 -4.78515625e-02\n",
      " -7.26318359e-03  1.79687500e-01  2.78320312e-02 -2.10937500e-01\n",
      " -1.43554688e-01 -1.27929688e-01  1.73339844e-02 -3.60107422e-03\n",
      " -2.04101562e-01  3.63159180e-03 -1.19628906e-01 -6.15234375e-02\n",
      "  5.93261719e-02 -3.23486328e-03 -1.70898438e-01 -3.14941406e-02\n",
      " -8.88671875e-02 -2.89062500e-01  3.44238281e-02 -1.87500000e-01\n",
      "  2.94921875e-01  1.58203125e-01 -1.19628906e-01  7.61718750e-02\n",
      "  6.39648438e-02 -4.68750000e-02 -6.83593750e-02  1.21459961e-02\n",
      " -1.44531250e-01  4.54101562e-02  3.68652344e-02  3.88671875e-01\n",
      "  1.45507812e-01 -2.55859375e-01 -4.46777344e-02 -1.33789062e-01\n",
      " -1.38671875e-01  6.59179688e-02  1.37695312e-01  1.14746094e-01\n",
      "  2.03125000e-01 -4.78515625e-02  1.80664062e-02 -8.54492188e-02\n",
      " -2.48046875e-01 -3.39843750e-01 -2.83203125e-02  1.05468750e-01\n",
      " -2.14843750e-01 -8.74023438e-02  7.12890625e-02  1.87500000e-01\n",
      " -1.12304688e-01  2.73437500e-01 -3.26171875e-01 -1.77734375e-01\n",
      " -4.24804688e-02 -2.69531250e-01  6.64062500e-02 -6.88476562e-02\n",
      " -1.99218750e-01 -7.03125000e-02 -2.43164062e-01 -3.66210938e-02\n",
      " -7.37304688e-02 -1.77734375e-01  9.17968750e-02 -1.25000000e-01\n",
      " -1.65039062e-01 -3.57421875e-01 -2.85156250e-01 -1.66992188e-01\n",
      "  1.97265625e-01 -1.53320312e-01  2.31933594e-02  2.06054688e-01\n",
      "  1.80664062e-01 -2.74658203e-02 -1.92382812e-01 -9.61914062e-02\n",
      " -1.06811523e-02 -4.73632812e-02  6.54296875e-02 -1.25732422e-02\n",
      "  1.78222656e-02 -8.00781250e-02 -2.59765625e-01  9.37500000e-02\n",
      " -7.81250000e-02  4.68750000e-02 -2.22167969e-02  1.86767578e-02\n",
      "  3.11279297e-02  1.04980469e-02 -1.69921875e-01  2.58789062e-02\n",
      " -3.41796875e-02 -1.44042969e-02 -5.46875000e-02 -8.78906250e-02\n",
      "  1.96838379e-03  2.23632812e-01 -1.36718750e-01  1.75781250e-01\n",
      " -1.63085938e-01  1.87500000e-01  3.44238281e-02 -5.63964844e-02\n",
      " -2.27689743e-05  4.27246094e-02  5.81054688e-02 -1.07910156e-01\n",
      " -3.88183594e-02 -2.69531250e-01  3.34472656e-02  9.81445312e-02\n",
      "  5.63964844e-02  2.23632812e-01 -5.49316406e-02  1.46484375e-01\n",
      "  5.93261719e-02 -2.19726562e-01  6.39648438e-02  1.66015625e-02\n",
      "  4.56542969e-02  3.26171875e-01 -3.80859375e-01  1.70898438e-01\n",
      "  5.66406250e-02 -1.04492188e-01  1.38671875e-01 -1.57226562e-01\n",
      "  3.23486328e-03 -4.80957031e-02 -2.48046875e-01 -6.20117188e-02]\n"
     ]
    }
   ],
   "source": [
    "word_vectors = model\n",
    "# let us look how the vector embeddings of word looks like\n",
    "print(word_vectors['computer']) \n",
    "# example: accessing the vector for word 'computer'"
   ]
  },
  {
   "cell_type": "code",
   "execution_count": 4,
   "id": "beb9bff2",
   "metadata": {},
   "outputs": [
    {
     "name": "stdout",
     "output_type": "stream",
     "text": [
      "(300,)\n"
     ]
    }
   ],
   "source": [
    "print(word_vectors['cat'].shape)"
   ]
  },
  {
   "cell_type": "markdown",
   "id": "8effe05a",
   "metadata": {},
   "source": [
    "### king + woman - man = ?"
   ]
  },
  {
   "cell_type": "code",
   "execution_count": 5,
   "id": "d38a2bee",
   "metadata": {},
   "outputs": [
    {
     "name": "stdout",
     "output_type": "stream",
     "text": [
      "[('queen', 0.7118193507194519), ('monarch', 0.6189674139022827), ('princess', 0.5902431011199951), ('crown_prince', 0.5499460697174072), ('prince', 0.5377321839332581), ('kings', 0.5236844420433044), ('Queen_Consort', 0.5235945582389832), ('queens', 0.5181134343147278), ('sultan', 0.5098593831062317), ('monarchy', 0.5087411999702454)]\n"
     ]
    }
   ],
   "source": [
    "# Example of using most_similar\n",
    "print(word_vectors.most_similar(positive=['king', 'woman'], negative=['man']))"
   ]
  },
  {
   "cell_type": "code",
   "execution_count": 8,
   "id": "e250b924",
   "metadata": {},
   "outputs": [
    {
     "name": "stdout",
     "output_type": "stream",
     "text": [
      "[('kings', 0.6610661745071411), ('crown_prince', 0.539524257183075), ('prince', 0.5256890058517456), ('ruler', 0.509535551071167), ('monarch', 0.5093126893043518), ('Simeon_Saxcoburggotski', 0.5077420473098755), ('sultan', 0.5074067711830139), ('King', 0.49446699023246765), ('Majesty_King', 0.4904979467391968), ('princes', 0.4890645146369934)]\n"
     ]
    }
   ],
   "source": [
    "print(word_vectors.most_similar(positive=['king', 'son'], negative=['daughter'] ))"
   ]
  },
  {
   "cell_type": "code",
   "execution_count": 9,
   "id": "c6664a2c",
   "metadata": {},
   "outputs": [
    {
     "name": "stdout",
     "output_type": "stream",
     "text": [
      "0.76640123\n",
      "0.6510957\n",
      "0.11408084\n"
     ]
    }
   ],
   "source": [
    "# example of calculating similarity\n",
    "print(word_vectors.similarity('woman', 'man'))\n",
    "print(word_vectors.similarity('king', 'queen'))\n",
    "print(word_vectors.similarity('paper', 'water'))"
   ]
  },
  {
   "cell_type": "code",
   "execution_count": null,
   "id": "5fd751e3",
   "metadata": {},
   "outputs": [],
   "source": []
  }
 ],
 "metadata": {
  "kernelspec": {
   "display_name": "Python (aienv)",
   "language": "python",
   "name": "aienv"
  },
  "language_info": {
   "codemirror_mode": {
    "name": "ipython",
    "version": 3
   },
   "file_extension": ".py",
   "mimetype": "text/x-python",
   "name": "python",
   "nbconvert_exporter": "python",
   "pygments_lexer": "ipython3",
   "version": "3.11.9"
  }
 },
 "nbformat": 4,
 "nbformat_minor": 5
}

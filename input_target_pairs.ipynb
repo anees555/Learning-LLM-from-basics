{
 "cells": [
  {
   "cell_type": "markdown",
   "id": "3a0abfff",
   "metadata": {},
   "source": [
    "## Creating input-target pairs"
   ]
  },
  {
   "cell_type": "markdown",
   "id": "90848c6a",
   "metadata": {},
   "source": [
    "In this section we implement a data loader that fetches the input-target pairs using sliding window approach"
   ]
  },
  {
   "cell_type": "code",
   "execution_count": 1,
   "id": "dd5adc0e",
   "metadata": {},
   "outputs": [
    {
     "name": "stdout",
     "output_type": "stream",
     "text": [
      "tiktoken version:  0.9.0\n"
     ]
    }
   ],
   "source": [
    "import importlib\n",
    "import importlib.metadata\n",
    "import tiktoken\n",
    "print(\"tiktoken version: \", importlib.metadata.version(\"tiktoken\"))"
   ]
  },
  {
   "cell_type": "code",
   "execution_count": 2,
   "id": "5396481e",
   "metadata": {},
   "outputs": [],
   "source": [
    "tokenizer = tiktoken.get_encoding('gpt2')"
   ]
  },
  {
   "cell_type": "code",
   "execution_count": 3,
   "id": "03be47ca",
   "metadata": {},
   "outputs": [
    {
     "name": "stdout",
     "output_type": "stream",
     "text": [
      "5145\n"
     ]
    }
   ],
   "source": [
    "with open(\"the-verdict.txt\", 'r', encoding=\"utf-8\") as f:\n",
    "    raw_text = f.read()\n",
    "\n",
    "enc_text = tokenizer.encode(raw_text)\n",
    "print(len(enc_text))"
   ]
  },
  {
   "cell_type": "markdown",
   "id": "5f210482",
   "metadata": {},
   "source": [
    "we remove the first 50 tokens form the dataset for demonstration purposed as it results in slightly more interesting"
   ]
  },
  {
   "cell_type": "code",
   "execution_count": 4,
   "id": "99e7522e",
   "metadata": {},
   "outputs": [],
   "source": [
    "enc_sample = enc_text[50:]"
   ]
  },
  {
   "cell_type": "markdown",
   "id": "1ed02b1c",
   "metadata": {},
   "source": [
    "The context size determines the how many tokens are included in the input"
   ]
  },
  {
   "cell_type": "code",
   "execution_count": 5,
   "id": "c97b3be8",
   "metadata": {},
   "outputs": [
    {
     "name": "stdout",
     "output_type": "stream",
     "text": [
      "x: [290, 4920, 2241, 287]\n",
      "y: [4920, 2241, 287, 257]\n"
     ]
    }
   ],
   "source": [
    "context_size = 4 # length of the input\n",
    "# the context size of 4 means that the model is trained to look at a sequence of 4 word\n",
    "# to predict the next word in the sentence.\n",
    "# the input x is the first 4 tokens [1, 2, 3, 4], and the target  is the next 4 token\n",
    "x = enc_sample[:context_size]\n",
    "y = enc_sample[1:context_size+1]\n",
    "\n",
    "print(f\"x: {x}\")\n",
    "print(f\"y: {y}\")"
   ]
  },
  {
   "cell_type": "code",
   "execution_count": 6,
   "id": "9602947e",
   "metadata": {},
   "outputs": [
    {
     "name": "stdout",
     "output_type": "stream",
     "text": [
      "[290] -------> 4920\n",
      "[290, 4920] -------> 2241\n",
      "[290, 4920, 2241] -------> 287\n",
      "[290, 4920, 2241, 287] -------> 257\n"
     ]
    }
   ],
   "source": [
    "for i in range(1, context_size+1):\n",
    "    context = enc_sample[:i]\n",
    "    desired = enc_sample[i]\n",
    "\n",
    "    print(context, \"------->\", desired)"
   ]
  },
  {
   "cell_type": "markdown",
   "id": "7e489ea3",
   "metadata": {},
   "source": [
    "Everything left of the arrow refers to the input and LLM would receive and the token ID on the right, LLM is supposed to predict"
   ]
  },
  {
   "cell_type": "code",
   "execution_count": 7,
   "id": "7672b141",
   "metadata": {},
   "outputs": [
    {
     "name": "stdout",
     "output_type": "stream",
     "text": [
      " and ------->  established\n",
      " and established ------->  himself\n",
      " and established himself ------->  in\n",
      " and established himself in ------->  a\n"
     ]
    }
   ],
   "source": [
    "for i in range(1, context_size+1):\n",
    "    context = enc_sample[:i]\n",
    "    desired = enc_sample[i]\n",
    "\n",
    "    print(tokenizer.decode(context), \"------->\", tokenizer.decode([desired]))"
   ]
  },
  {
   "cell_type": "markdown",
   "id": "815acab7",
   "metadata": {},
   "source": [
    "There is only one more task before we can turn the tokens into embeddings: implementing an efficient data loader that interates over the input datasets and returns the inputs and targets as pytorch tensors, which can be thought of  as multidimensional arrays"
   ]
  },
  {
   "cell_type": "markdown",
   "id": "d3b57ef1",
   "metadata": {},
   "source": [
    "### Implementing Data Loader"
   ]
  },
  {
   "cell_type": "markdown",
   "id": "55865a1c",
   "metadata": {},
   "source": [
    "step1: Tokenize the entire text\n",
    "\n",
    "step2: Use a sliding window to chunk the book into overlapping sequences of max_length\n",
    "\n",
    "setp3: Return the total number of rows in the dataset\n",
    "\n",
    "step4: Return a single row from the dataset"
   ]
  },
  {
   "cell_type": "code",
   "execution_count": 8,
   "id": "a71ea800",
   "metadata": {},
   "outputs": [],
   "source": [
    "from torch.utils.data import Dataset, DataLoader\n",
    "\n",
    "class GPTDatasetV1(Dataset):\n",
    "    def __init__(self, txt, tokenizer, max_length, stride):\n",
    "        self.input_ids = []\n",
    "        self.target_ids = []\n",
    "\n",
    "        # tokenize the entire text\n",
    "        token_ids = tokenizer.encode(txt, allowed_special={\"<|endoftext|>\"})\n",
    "\n",
    "        # Use a sliding window to chunk the book into overlapping sequences of max_lengths\n",
    "        for i in range(0, len(token_ids) - max_length, stride):\n",
    "            input_chunk = token_ids[i:i + max_length]\n",
    "            target_chunk = token_ids[i+1:i+max_length +1]\n",
    "            self.input_ids.append(torch.tensor(input_chunk))\n",
    "            self.target_ids.append(torch.tensor(target_chunk))\n",
    "\n",
    "    def __len__(self):\n",
    "        return len(self.input_ids)\n",
    "    \n",
    "    def __getitem__(self, idx):\n",
    "        return self.input_ids[idx], self.target_ids[idx]"
   ]
  },
  {
   "cell_type": "markdown",
   "id": "bb4a1bec",
   "metadata": {},
   "source": [
    "The following code will use the GPTDatasetV1 to load the inputs in batches via a pytorch DataLoader"
   ]
  },
  {
   "cell_type": "markdown",
   "id": "5e19e464",
   "metadata": {},
   "source": [
    "step1: Inintialize the tokenizer\n",
    "\n",
    "step2: Create dataset\n",
    "\n",
    "step3: drop_last=True drops the batch if it is shorter than the specified batch_size to prevent loss spikes during training\n",
    "\n",
    "step4: the number of cpu processes to use for preprocessing"
   ]
  },
  {
   "cell_type": "code",
   "execution_count": 9,
   "id": "69b01737",
   "metadata": {},
   "outputs": [],
   "source": [
    "def create_dataloader_v1(txt, batch_size=4, max_length=256,\n",
    "                         stride=128, shuffle=True, drop_last=True,\n",
    "                         num_workers=0):\n",
    "    # Initialize the tokenizer\n",
    "    tokenizer = tiktoken.get_encoding(\"gpt2\")\n",
    "\n",
    "    # create dataset\n",
    "    dataset = GPTDatasetV1(txt, tokenizer, max_length, stride)\n",
    "\n",
    "    # create dataloader\n",
    "    dataloader = DataLoader(\n",
    "        dataset,\n",
    "        batch_size=batch_size,\n",
    "        shuffle=shuffle,\n",
    "        drop_last=drop_last,\n",
    "        num_workers=num_workers\n",
    "    )\n",
    "    return dataloader"
   ]
  },
  {
   "cell_type": "markdown",
   "id": "7ca51181",
   "metadata": {},
   "source": [
    "Lets test the dataloader with batch size of 1 for an LLM with context size of 4\n",
    "This will develop an intuition of how the GPTDatasetV1 class and create_dataloader_v1 function work together:"
   ]
  },
  {
   "cell_type": "code",
   "execution_count": 10,
   "id": "9d04eb0c",
   "metadata": {},
   "outputs": [],
   "source": [
    "with open(\"the-verdict.txt\", \"r\", encoding=\"utf-8\") as f:\n",
    "    raw_text = f.read()"
   ]
  },
  {
   "cell_type": "markdown",
   "id": "548c32e0",
   "metadata": {},
   "source": [
    "### Convert dataloader into python iterator to fetch next entry via python's built-in next() function"
   ]
  },
  {
   "cell_type": "code",
   "execution_count": 11,
   "id": "3124e0e0",
   "metadata": {},
   "outputs": [
    {
     "name": "stdout",
     "output_type": "stream",
     "text": [
      "Pytorch version: 2.5.1+cu121\n",
      "[tensor([[  40,  367, 2885, 1464]]), tensor([[ 367, 2885, 1464, 1807]])]\n"
     ]
    }
   ],
   "source": [
    "import torch\n",
    "print(\"Pytorch version:\", torch.__version__)\n",
    "dataloader = create_dataloader_v1(raw_text, batch_size=1, max_length=4, stride=1, shuffle=False\n",
    "                                  )\n",
    "data_iter = iter(dataloader)\n",
    "first_batch = next(data_iter)\n",
    "print(first_batch)"
   ]
  },
  {
   "cell_type": "markdown",
   "id": "a391c266",
   "metadata": {},
   "source": [
    "The first_batch variables contains the two tensors: the first tensor stores the input token IDs and the second tensor stores target token IDs"
   ]
  },
  {
   "cell_type": "code",
   "execution_count": 12,
   "id": "a53f9ede",
   "metadata": {},
   "outputs": [
    {
     "name": "stdout",
     "output_type": "stream",
     "text": [
      "[tensor([[ 367, 2885, 1464, 1807]]), tensor([[2885, 1464, 1807, 3619]])]\n"
     ]
    }
   ],
   "source": [
    "second_batch = next(data_iter)\n",
    "print(second_batch)"
   ]
  },
  {
   "cell_type": "code",
   "execution_count": 13,
   "id": "676d797a",
   "metadata": {},
   "outputs": [
    {
     "name": "stdout",
     "output_type": "stream",
     "text": [
      "[tensor([[   40,   367,  2885,  1464],\n",
      "        [ 1807,  3619,   402,   271],\n",
      "        [10899,  2138,   257,  7026],\n",
      "        [15632,   438,  2016,   257],\n",
      "        [  922,  5891,  1576,   438],\n",
      "        [  568,   340,   373,   645],\n",
      "        [ 1049,  5975,   284,   502],\n",
      "        [  284,  3285,   326,    11]]), tensor([[  367,  2885,  1464,  1807],\n",
      "        [ 3619,   402,   271, 10899],\n",
      "        [ 2138,   257,  7026, 15632],\n",
      "        [  438,  2016,   257,   922],\n",
      "        [ 5891,  1576,   438,   568],\n",
      "        [  340,   373,   645,  1049],\n",
      "        [ 5975,   284,   502,   284],\n",
      "        [ 3285,   326,    11,   287]])]\n"
     ]
    }
   ],
   "source": [
    "dataloader = create_dataloader_v1(raw_text, batch_size=8, max_length=4, stride=4, shuffle=False\n",
    "                                  )\n",
    "data_iter = iter(dataloader)\n",
    "first_batch = next(data_iter)\n",
    "print(first_batch)"
   ]
  },
  {
   "cell_type": "code",
   "execution_count": null,
   "id": "f758a884",
   "metadata": {},
   "outputs": [],
   "source": []
  }
 ],
 "metadata": {
  "kernelspec": {
   "display_name": "Python (aienv)",
   "language": "python",
   "name": "aienv"
  },
  "language_info": {
   "codemirror_mode": {
    "name": "ipython",
    "version": 3
   },
   "file_extension": ".py",
   "mimetype": "text/x-python",
   "name": "python",
   "nbconvert_exporter": "python",
   "pygments_lexer": "ipython3",
   "version": "3.11.9"
  }
 },
 "nbformat": 4,
 "nbformat_minor": 5
}
